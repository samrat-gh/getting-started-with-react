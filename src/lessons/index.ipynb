{
 "cells": [
  {
   "attachments": {},
   "cell_type": "markdown",
   "metadata": {},
   "source": [
    "# JSX (JavaScript XML) Expression \n"
   ]
  },
  {
   "cell_type": "code",
   "execution_count": null,
   "metadata": {
    "vscode": {
     "languageId": "javascript"
    }
   },
   "outputs": [],
   "source": [
    "import React from 'react'\n",
    "import ReactDOM from 'react-dom'\n",
    "// from react import Component, ReactDOM\n",
    "\n",
    "const root = ReactDOM.createRoot(document.getElementByid('root'));\n",
    "\n",
    "root.render(<h1> Hello World! </h1>)"
   ]
  },
  {
   "attachments": {},
   "cell_type": "markdown",
   "metadata": {},
   "source": [
    "# Rendering Elements \n",
    "\n",
    "#### Terms\n",
    "Mutable : Its state/value can be changed.\n",
    "\n",
    "Immutable : Its State/Value cannot be modified after its creation.\n",
    "\n",
    "\n",
    "### React Elements are Immutable\n",
    "\n"
   ]
  },
  {
   "cell_type": "code",
   "execution_count": null,
   "metadata": {
    "vscode": {
     "languageId": "javascript"
    }
   },
   "outputs": [],
   "source": [
    "// React Only Updates What’s Necessary\n",
    "\n",
    "// This is a simple code example to show that the React element is immutable \n",
    "// and its is only possible to modify a react element is by using timing event\n",
    "//  i.e setInterval\n",
    "\n",
    "// When the UI is updated, only the updated text node is changed rather than the whole page.\n",
    "\n",
    "\n",
    "\n",
    "import React from 'react'\n",
    "import ReactDOM from 'react-dom/client'\n",
    "\n",
    "const root = ReactDOM.createRoot(document.getElementById('root'));\n",
    "\n",
    "function timer() {\n",
    "    const element = (\n",
    "        <div>\n",
    "        <h1>Hi, Welcome to Nepal</h1>\n",
    "        <h3> The time is {new Date().toLocaleTimeString()} </h3>\n",
    "        </div>\n",
    "    );\n",
    "\n",
    "    root.render(element); \n",
    "}\n",
    "\n",
    "setInterval(timer, 1000)"
   ]
  },
  {
   "cell_type": "code",
   "execution_count": null,
   "metadata": {
    "vscode": {
     "languageId": "javascript"
    }
   },
   "outputs": [],
   "source": [
    "// Simple Component\n",
    "// Actually a functional component because it is created using javaScript function\n",
    "// Component can also be created using javaScript class\n",
    "\n",
    "import React from 'react';\n",
    "import ReactDOM from 'react-dom/client'\n",
    "// import './index.css';\n",
    "\n",
    "const root = ReactDOM.createRoot(document.getElementById('root'))\n",
    "\n",
    "function heading(props) {\n",
    "return <h1> My name is {props.firstname + ' ' + props.lastname}  </h1>\n",
    "}\n",
    "\n",
    "const obj = {\n",
    "    firstname : 'Samrat',\n",
    "    lastname : 'Ghimire'\n",
    "}\n",
    "\n",
    "root.render(heading(obj));"
   ]
  },
  {
   "cell_type": "code",
   "execution_count": null,
   "metadata": {
    "vscode": {
     "languageId": "javascript"
    }
   },
   "outputs": [],
   "source": [
    "// User-defined Component\n",
    "\n",
    "\n",
    "function Data(obj) {\n",
    "    return (\n",
    "        <div>\n",
    "           <h1> He is {obj.fullname} </h1>\n",
    "           <h2> He recently graduated through {obj.university}</h2>\n",
    "           <h3> He currently works as {obj.job}</h3>\n",
    "        </div>\n",
    "    )\n",
    "    }\n",
    "    \n",
    "    const element = <Data fullname=\"Samrat Ghimire\" university=\"Tribhuvan University\" \n",
    "    job=\"Web Developer\"/>\n",
    "    \n",
    "    root.render(element);"
   ]
  },
  {
   "cell_type": "code",
   "execution_count": null,
   "metadata": {
    "vscode": {
     "languageId": "javascript"
    }
   },
   "outputs": [],
   "source": [
    "function formatDate(date) {\n",
    "    return date.toLocaleDateString();\n",
    "  }\n",
    "  \n",
    "  function Comment(props) {\n",
    "    return (\n",
    "      <div className=\"Comment\">\n",
    "        <div className=\"UserInfo\">\n",
    "          <img className=\"Avatar\"\n",
    "               src={props.author.avatarUrl}\n",
    "               alt={props.author.name} />\n",
    "          <div className=\"UserInfo-name\">\n",
    "            {props.author.name}\n",
    "          </div>\n",
    "        </div>\n",
    "        <div className=\"Comment-text\">\n",
    "          {props.text}\n",
    "        </div>\n",
    "        <div className=\"Comment-date\">\n",
    "          {formatDate(props.date)}\n",
    "        </div>\n",
    "      </div>\n",
    "    );\n",
    "  }\n",
    "  \n",
    "  const comment = {\n",
    "    date: new Date(),\n",
    "    text: 'I hope you enjoy learning React!',\n",
    "    author: {\n",
    "      name: 'Hello Kitty',\n",
    "      avatarUrl: 'http://placekitten.com/g/64/64'\n",
    "    }\n",
    "  };\n",
    "  \n",
    "  const root = ReactDOM.createRoot(document.getElementById('root'));\n",
    "  root.render(\n",
    "    <Comment\n",
    "      date={comment.date}\n",
    "      text={comment.text}\n",
    "      author={comment.author} />\n",
    "  );\n",
    "  "
   ]
  },
  {
   "cell_type": "code",
   "execution_count": null,
   "metadata": {
    "vscode": {
     "languageId": "javascript"
    }
   },
   "outputs": [],
   "source": [
    "// Component to state\n",
    "\n",
    "class Real extends React.Component {\n",
    "    constructor(props) {\n",
    "     super(props);\n",
    "     this.state = {fullname:'Samrat Ghimire'}\n",
    "    }\n",
    " \n",
    " \n",
    "     render() {\n",
    "         return (\n",
    "                <div>\n",
    "                 {/* <h1>Hi, I am {this.props.fullname}</h1> */}\n",
    "                 <h1>Hi, I am {this.state.fullname}</h1>\n",
    "                 <h2>Thanks for reading me</h2>\n",
    "                </div>\n",
    "         );\n",
    " \n",
    "     }\n",
    " }\n",
    " \n",
    " root.render(<Real />)\n",
    " // This is called adding Local State\n",
    " // No more value assigning through attributes\n",
    " // as it can be now added inside constructor\n",
    "\n",
    "\n",
    "\n",
    "\n",
    " //previous code \n",
    "\n",
    " // function Real(obj) {\n",
    "// return (\n",
    "//     <div>\n",
    "//         <h1> Hi, I am {obj.fullname}</h1>\n",
    "//     </div>\n",
    "// )\n",
    "// }\n",
    "\n",
    "// const element = <Real fullname=\"Hero\"/>\n",
    "// root.render(element);"
   ]
  },
  {
   "cell_type": "code",
   "execution_count": null,
   "metadata": {
    "vscode": {
     "languageId": "javascript"
    }
   },
   "outputs": [],
   "source": [
    "//Adding Lifecycle Method to a class\n",
    "\n",
    "\n",
    "class Real extends React.Component {\n",
    "    constructor(props) {\n",
    "     super(props);\n",
    "     this.state = {fullname:'Samrat Ghimire'}\n",
    "    }\n",
    " \n",
    "    componentDidMount(){\n",
    "         this.timerID = setInterval(() => this.tick() ,1000); \n",
    "    } //This runs on creation of component\n",
    "    //timerID stores information about setInterval\n",
    "\n",
    "    componentWillUnmount() {\n",
    "     clearInterval(this.timerID);\n",
    "    } //This clears the interval when component is cleared\n",
    " \n",
    "    tick() {\n",
    "     this.setState({\n",
    "         fullname: 'Samrat Ghimire'\n",
    "     }) \n",
    "    }\n",
    " \n",
    "     render() {\n",
    "         return (\n",
    "                <div>\n",
    "                 {/* <h1>Hi, I am {this.props.fullname}</h1> */}\n",
    "                 <h1>Hi, I am {this.state.fullname}</h1>\n",
    "                 <h2>Thanks for reading me</h2>\n",
    "                </div>\n",
    "         );\n",
    " \n",
    "     }\n",
    " }\n",
    " \n",
    " root.render(<Real/>)\n"
   ]
  },
  {
   "cell_type": "code",
   "execution_count": null,
   "metadata": {
    "vscode": {
     "languageId": "javascript"
    }
   },
   "outputs": [],
   "source": [
    "// Event Handling\n",
    "\n",
    "// There are something we have to recognize during Event Handling\n",
    "// - The function is to be called inside JSX Syntax : <button onClick={function_name}></button>\n",
    "// - The Events are written in camelCase\n",
    "\n",
    "\n",
    "// When calling a function for an event, this keyword acts awkward (not just in react from javaScript)\n",
    "// 'this' Keyword returns undefined while calling it for a function \n",
    "// So, there are three changes that can be done :\n",
    "\n",
    "// Put this.function_name =  this.function_name.bind(this) inside Constructor & you can also bind internally but\n",
    "// that would be bad aaproach and is considered fatal for large apps : {this.function_name.bind(this)}\n",
    "\n",
    "// Declare the function as a arrow function :\n",
    "             // function_name = () => {} , also can be done internally : {()=> {this.function_name()}}\n",
    "             // This internally approach is also considered fatal\n",
    "\n",
    "             \n",
    "// =======> The best approach is writing this.function_name = this.function_name.bind(this) in constructor\n",
    "// It actually assigns this.function_name to the binded function of it\n",
    "\n",
    "\n",
    "\n",
    "class Real extends React.Component {\n",
    "    constructor(props) {\n",
    "     super(props);\n",
    "     this.state = {fullname:'Samrat Ghimire'}\n",
    "     this.runit = this.runit.bind(this);\n",
    "    }\n",
    " \n",
    "    componentDidMount(){\n",
    "         this.timerID = setInterval(() => this.tick() ,1000); \n",
    "    }\n",
    "    componentWillUnmount() {\n",
    "     clearInterval(this.timerID);\n",
    "    }\n",
    " \n",
    "    tick() {\n",
    "     this.setState({\n",
    "         fullname: 'Samrat Ghimire'\n",
    "     })\n",
    "    }\n",
    " \n",
    "    \n",
    " //    runit = () => {\n",
    " //     console.log(this)\n",
    " //     console.log(this.state.fullname)\n",
    " //     console.log('Ran');\n",
    " //    }\n",
    " \n",
    " \n",
    "     runit() {\n",
    "     console.log(this)\n",
    "     this.setState ({\n",
    "         fullname:'Shyam rat'\n",
    "     })\n",
    "     console.log('Ran');\n",
    "    }\n",
    " \n",
    "     render() {\n",
    "         return (\n",
    "                <div>\n",
    "                 {/* <h1>Hi, I am {this.props.fullname}</h1> */}\n",
    "                 <h1>Hi, I am {this.state.fullname}</h1>\n",
    "                 <h2>Thanks for reading me</h2>\n",
    "                 {/* <button onClick={this.runit.bind(this)}> Click me</button> */}\n",
    "                 {/* <button onClick={() => {this.runit()}}> Click me</button> */}\n",
    "                 <button onClick={this.runit}> Click me</button>\n",
    "                </div>\n",
    "         );\n",
    " \n",
    "     }\n",
    " }\n",
    " \n",
    " \n",
    " root.render(<Real/>)\n",
    "           \n"
   ]
  },
  {
   "cell_type": "code",
   "execution_count": null,
   "metadata": {
    "vscode": {
     "languageId": "javascript"
    }
   },
   "outputs": [],
   "source": [
    "//Conditional Rendering\n",
    "\n",
    "const root = ReactDOM.createRoot(document.getElementById('root'))\n",
    "\n",
    "function SignIn() {\n",
    "    return <div>\n",
    "        <h1>Sign in</h1>\n",
    "    </div>\n",
    "}\n",
    "\n",
    "function Register()\n",
    "{\n",
    " return <div>\n",
    "    <h1>Register</h1>\n",
    " </div>\n",
    "}\n",
    "\n",
    "\n",
    "function Component(props){\n",
    "    const isLogged = props.isLogged;\n",
    " return (isLogged? <SignIn/> : <Register/>); //Terniary Operator\n",
    "}\n",
    "\n",
    "root.render(<Component isLogged={false}/>)"
   ]
  },
  {
   "cell_type": "code",
   "execution_count": null,
   "metadata": {
    "vscode": {
     "languageId": "javascript"
    }
   },
   "outputs": [],
   "source": []
  },
  {
   "cell_type": "code",
   "execution_count": null,
   "metadata": {
    "vscode": {
     "languageId": "javascript"
    }
   },
   "outputs": [],
   "source": []
  }
 ],
 "metadata": {
  "kernelspec": {
   "display_name": "Python 3",
   "language": "python",
   "name": "python3"
  },
  "language_info": {
   "codemirror_mode": {
    "name": "ipython",
    "version": 3
   },
   "file_extension": ".py",
   "mimetype": "text/x-python",
   "name": "python",
   "nbconvert_exporter": "python",
   "pygments_lexer": "ipython3",
   "version": "3.10.9 (tags/v3.10.9:1dd9be6, Dec  6 2022, 20:01:21) [MSC v.1934 64 bit (AMD64)]"
  },
  "orig_nbformat": 4,
  "vscode": {
   "interpreter": {
    "hash": "324daea4d0106bd074550afa80ce05e0dea3c1415d1ebd526c435cb7db4eb6a1"
   }
  }
 },
 "nbformat": 4,
 "nbformat_minor": 2
}
